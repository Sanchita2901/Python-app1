{
 "cells": [
  {
   "cell_type": "markdown",
   "id": "be4cde90-1b7d-45d2-889b-088cb70dd657",
   "metadata": {},
   "source": [
    "# World Population by Country \n",
    "**2023 World Population 8,005,176,000**"
   ]
  },
  {
   "cell_type": "markdown",
   "id": "a1894990-cbc3-424f-bb62-132fdf7fab83",
   "metadata": {},
   "source": [
    "## About Dataset"
   ]
  },
  {
   "cell_type": "markdown",
   "id": "cc25da92-262a-4290-a9e5-74c188a57a9f",
   "metadata": {},
   "source": [
    "**CONTENT**"
   ]
  },
  {
   "cell_type": "markdown",
   "id": "1bb9ba1b-91d7-4772-be27-c1f24519b2d6",
   "metadata": {},
   "source": [
    "The US Census Bureau's world population clock estimated that the global population as of September 2022 was 7,922,312,800 people and was expected to reach 8 billion by mid-November of 2022. This total far exceeds the 2015 world population of 7.2 billion. The world's population continues to increase by roughly 140 people per minute, with births outweighing deaths in most countries.\n",
    "\n",
    "Overall, however, the rate of population growth has been slowing for several decades. This slowdown is expected to continue until the rate of population growth reaches zero (an equal number of births and deaths) around 2080-2100, at a population of approximately 10.4 billion people. After this time, the population growth rate is expected to turn negative, resulting in global population decline.\n",
    "\n",
    "Countries with more than 1 billion people\n",
    "China is currently the most populous country in the world, with a population estimated at more than 1.42 billion as of September 2022. Only one other country in the world boasts a population of more than 1 billion people: India, whose population is estimated to be 1.41 billion people—and rising."
   ]
  },
  {
   "cell_type": "markdown",
   "id": "ca601b10-e9a1-413e-ab5a-0fce1bdcfcb5",
   "metadata": {},
   "source": [
    "**Data Collection**"
   ]
  },
  {
   "cell_type": "markdown",
   "id": "cd5cca9a-6a17-49da-8846-20d9e3435445",
   "metadata": {},
   "source": [
    "We are going to consider a dataset of World Population by Country . It contains population of each country in 1980, 2000, 2022, 2023, 2050, along with growth rate of each country, density per km etc.\\\n",
    "We will use Python libraries (Pandas, Numpy, Matplotlib & Seaborn) to analyze the database.\n",
    "The dataset can be downloaded here.\n",
    "[Link](https://github.com/AnudipAE/DANLC/blob/master/cleaned.csv)\\\n",
    "In this analysis, we will be using Jupyter Notebook.\n"
   ]
  },
  {
   "cell_type": "markdown",
   "id": "ecb39d64-b247-41cc-b40e-00e617fba0d8",
   "metadata": {},
   "source": [
    "**Data Cleaning**"
   ]
  },
  {
   "cell_type": "markdown",
   "id": "e553b6df-df89-488c-9c3b-ba18e2cc9afe",
   "metadata": {},
   "source": [
    "*1. Loading the Dataset*"
   ]
  },
  {
   "cell_type": "code",
   "execution_count": 1,
   "id": "417849db-7446-473f-8a02-7b37f0172742",
   "metadata": {},
   "outputs": [
    {
     "name": "stdout",
     "output_type": "stream",
     "text": [
      "         country  rank       area  landAreaKm  netChange  growthRate  \\\n",
      "0          India     1  3287590.0   2973190.0     0.4184      0.0081   \n",
      "1          China     2  9706961.0   9424702.9    -0.0113     -0.0002   \n",
      "2  United States     3  9372610.0   9147420.0     0.0581      0.0050   \n",
      "3      Indonesia     4  1904569.0   1877519.0     0.0727      0.0074   \n",
      "4       Pakistan     5   881912.0    770880.0     0.1495      0.0198   \n",
      "\n",
      "   worldPercentage   density  place     pop2000     pop2010     pop2022  \\\n",
      "0           0.1785  480.5033    356  1059633675  1240613620  1417173173   \n",
      "1           0.1781  151.2696    156  1264099069  1348191368  1425887337   \n",
      "2           0.0425   37.1686    840   282398554   311182845   338289857   \n",
      "3           0.0347  147.8196    360   214072421   244016173   275501339   \n",
      "4           0.0300  311.9625    586   154369924   194454498   235824862   \n",
      "\n",
      "      pop2023     pop2030     pop2050  \n",
      "0  1428627663  1514994080  1670490596  \n",
      "1  1425671352  1415605906  1312636325  \n",
      "2   339996563   352162301   375391963  \n",
      "3   277534122   292150100   317225213  \n",
      "4   240485658   274029836   367808468  \n"
     ]
    }
   ],
   "source": [
    "import pandas as pd\n",
    "data = pd.read_csv('countries_table.csv')\n",
    "print(data.head())"
   ]
  },
  {
   "cell_type": "markdown",
   "id": "345f565f-1c43-4db9-bbfc-f965d593bc61",
   "metadata": {},
   "source": [
    "*2. Explore the dataset*"
   ]
  },
  {
   "cell_type": "code",
   "execution_count": 2,
   "id": "bc0dabd4-7606-4f5b-ab47-d7216193c25c",
   "metadata": {},
   "outputs": [
    {
     "name": "stdout",
     "output_type": "stream",
     "text": [
      "Dataframe information\n",
      "<class 'pandas.core.frame.DataFrame'>\n",
      "RangeIndex: 234 entries, 0 to 233\n",
      "Data columns (total 15 columns):\n",
      " #   Column           Non-Null Count  Dtype  \n",
      "---  ------           --------------  -----  \n",
      " 0   country          234 non-null    object \n",
      " 1   rank             234 non-null    int64  \n",
      " 2   area             234 non-null    float64\n",
      " 3   landAreaKm       234 non-null    float64\n",
      " 4   netChange        226 non-null    float64\n",
      " 5   growthRate       234 non-null    float64\n",
      " 6   worldPercentage  228 non-null    float64\n",
      " 7   density          234 non-null    float64\n",
      " 8   place            234 non-null    int64  \n",
      " 9   pop2000          234 non-null    int64  \n",
      " 10  pop2010          234 non-null    int64  \n",
      " 11  pop2022          234 non-null    int64  \n",
      " 12  pop2023          234 non-null    int64  \n",
      " 13  pop2030          234 non-null    int64  \n",
      " 14  pop2050          234 non-null    int64  \n",
      "dtypes: float64(6), int64(8), object(1)\n",
      "memory usage: 27.6+ KB\n",
      "None\n",
      "Dataframe Description\n",
      "             rank          area    landAreaKm   netChange  growthRate  \\\n",
      "count  234.000000  2.340000e+02  2.340000e+02  226.000000  234.000000   \n",
      "mean   117.500000  5.814500e+05  5.571123e+05    0.010306    0.009737   \n",
      "std     67.694165  1.761841e+06  1.689972e+06    0.034774    0.012350   \n",
      "min      1.000000  4.400000e-01  4.400000e-01   -0.028600   -0.074500   \n",
      "25%     59.250000  2.650000e+03  2.625875e+03    0.000000    0.002325   \n",
      "50%    117.500000  8.119950e+04  7.568925e+04    0.000900    0.008200   \n",
      "75%    175.750000  4.304258e+05  4.047876e+05    0.008000    0.016850   \n",
      "max    234.000000  1.709824e+07  1.637687e+07    0.418400    0.049800   \n",
      "\n",
      "       worldPercentage       density       place       pop2000       pop2010  \\\n",
      "count       228.000000    234.000000  234.000000  2.340000e+02  2.340000e+02   \n",
      "mean          0.004407    451.288182  439.085470  2.626947e+07  2.984524e+07   \n",
      "std           0.017375   1979.362419  253.295484  1.116982e+08  1.242185e+08   \n",
      "min           0.000000      0.138000    4.000000  6.510000e+02  5.960000e+02   \n",
      "25%           0.000100     39.747650  223.000000  3.272420e+05  3.931490e+05   \n",
      "50%           0.000750     97.481000  439.000000  4.292907e+06  4.942770e+06   \n",
      "75%           0.002925    242.928650  659.750000  1.576230e+07  1.915957e+07   \n",
      "max           0.178500  21402.705200  894.000000  1.264099e+09  1.348191e+09   \n",
      "\n",
      "            pop2022       pop2023       pop2030       pop2050  \n",
      "count  2.340000e+02  2.340000e+02  2.340000e+02  2.340000e+02  \n",
      "mean   3.407441e+07  3.437442e+07  3.651461e+07  4.148628e+07  \n",
      "std    1.367664e+08  1.373864e+08  1.417827e+08  1.481676e+08  \n",
      "min    5.100000e+02  5.180000e+02  5.610000e+02  7.310000e+02  \n",
      "25%    4.197385e+05  4.225982e+05  4.561490e+05  5.466058e+05  \n",
      "50%    5.559944e+06  5.643895e+06  6.178231e+06  6.352397e+06  \n",
      "75%    2.247650e+07  2.324537e+07  2.616311e+07  3.568614e+07  \n",
      "max    1.425887e+09  1.428628e+09  1.514994e+09  1.670491e+09  \n"
     ]
    }
   ],
   "source": [
    "import pandas as pd\n",
    "data = pd.read_csv('countries_table.csv')\n",
    "print(\"Dataframe information\")\n",
    "print(data.info())\n",
    "print(\"Dataframe Description\")\n",
    "print(data.describe())"
   ]
  },
  {
   "cell_type": "markdown",
   "id": "232ae837-b147-46b4-beb5-13b8bed721be",
   "metadata": {},
   "source": [
    "*3. Removing Missing Values*"
   ]
  },
  {
   "cell_type": "code",
   "execution_count": 3,
   "id": "876e74cf-28dc-4426-9409-ca5ff1015767",
   "metadata": {},
   "outputs": [
    {
     "name": "stdout",
     "output_type": "stream",
     "text": [
      "Before Removing nan Values\n",
      "<class 'pandas.core.frame.DataFrame'>\n",
      "RangeIndex: 234 entries, 0 to 233\n",
      "Data columns (total 15 columns):\n",
      " #   Column           Non-Null Count  Dtype  \n",
      "---  ------           --------------  -----  \n",
      " 0   country          234 non-null    object \n",
      " 1   rank             234 non-null    int64  \n",
      " 2   area             234 non-null    float64\n",
      " 3   landAreaKm       234 non-null    float64\n",
      " 4   netChange        226 non-null    float64\n",
      " 5   growthRate       234 non-null    float64\n",
      " 6   worldPercentage  228 non-null    float64\n",
      " 7   density          234 non-null    float64\n",
      " 8   place            234 non-null    int64  \n",
      " 9   pop2000          234 non-null    int64  \n",
      " 10  pop2010          234 non-null    int64  \n",
      " 11  pop2022          234 non-null    int64  \n",
      " 12  pop2023          234 non-null    int64  \n",
      " 13  pop2030          234 non-null    int64  \n",
      " 14  pop2050          234 non-null    int64  \n",
      "dtypes: float64(6), int64(8), object(1)\n",
      "memory usage: 27.6+ KB\n",
      "None\n",
      "After Removing nan Values\n",
      "<class 'pandas.core.frame.DataFrame'>\n",
      "Index: 225 entries, 0 to 226\n",
      "Data columns (total 15 columns):\n",
      " #   Column           Non-Null Count  Dtype  \n",
      "---  ------           --------------  -----  \n",
      " 0   country          225 non-null    object \n",
      " 1   rank             225 non-null    int64  \n",
      " 2   area             225 non-null    float64\n",
      " 3   landAreaKm       225 non-null    float64\n",
      " 4   netChange        225 non-null    float64\n",
      " 5   growthRate       225 non-null    float64\n",
      " 6   worldPercentage  225 non-null    float64\n",
      " 7   density          225 non-null    float64\n",
      " 8   place            225 non-null    int64  \n",
      " 9   pop2000          225 non-null    int64  \n",
      " 10  pop2010          225 non-null    int64  \n",
      " 11  pop2022          225 non-null    int64  \n",
      " 12  pop2023          225 non-null    int64  \n",
      " 13  pop2030          225 non-null    int64  \n",
      " 14  pop2050          225 non-null    int64  \n",
      "dtypes: float64(6), int64(8), object(1)\n",
      "memory usage: 28.1+ KB\n",
      "None\n"
     ]
    }
   ],
   "source": [
    "import pandas as pd\n",
    "data = pd.read_csv('countries_table.csv')\n",
    "#printing the nan values\n",
    "print(\"Before Removing nan Values\")\n",
    "print(data.info())\n",
    "#removing the nan values\n",
    "data.dropna(inplace=True)\n",
    "print(\"After Removing nan Values\")\n",
    "print(data.info())"
   ]
  },
  {
   "cell_type": "markdown",
   "id": "7e4d02ec-171f-4594-97e0-d1d5f0851ddd",
   "metadata": {},
   "source": [
    "*4. Removing Duplicates*"
   ]
  },
  {
   "cell_type": "code",
   "execution_count": 4,
   "id": "28d2096c-65bc-4e85-80eb-aedff71ad0d7",
   "metadata": {},
   "outputs": [
    {
     "name": "stdout",
     "output_type": "stream",
     "text": [
      "Before Removing Number of duplicate rows: 0\n",
      "Empty DataFrame\n",
      "Columns: [country, rank, area, landAreaKm, netChange, growthRate, worldPercentage, density, place, pop2000, pop2010, pop2022, pop2023, pop2030, pop2050]\n",
      "Index: []\n",
      "After Removing Number of duplicate rows: 0\n",
      "Empty DataFrame\n",
      "Columns: [country, rank, area, landAreaKm, netChange, growthRate, worldPercentage, density, place, pop2000, pop2010, pop2022, pop2023, pop2030, pop2050]\n",
      "Index: []\n"
     ]
    }
   ],
   "source": [
    "import pandas as pd\n",
    "data = pd.read_csv('countries_table.csv')\n",
    "#Find the duplicate values\n",
    "duplicate_rows = data.duplicated()\n",
    "#Printing the no of duplicate rows\n",
    "print(\"Before Removing Number of duplicate rows:\", duplicate_rows.sum())\n",
    "print(data[duplicate_rows])\n",
    "#Removing duplicate values\n",
    "data.drop_duplicates(inplace=True)\n",
    "#Find the duplicate values\n",
    "duplicate_rows = data.duplicated()\n",
    "#Printing the no of duplicate rows\n",
    "print(\"After Removing Number of duplicate rows:\", duplicate_rows.sum())\n",
    "print(data[duplicate_rows])\n",
    "data.to_csv('after_drop_countries_table.csv',index=False)"
   ]
  },
  {
   "cell_type": "markdown",
   "id": "5ebe2d0e-0f0f-4a9a-817f-8409d445bb3f",
   "metadata": {},
   "source": [
    "**In Database (After clening the data)**"
   ]
  },
  {
   "cell_type": "code",
   "execution_count": 5,
   "id": "7126c3ce-532a-4bba-af6b-e0e233e53337",
   "metadata": {},
   "outputs": [
    {
     "name": "stdout",
     "output_type": "stream",
     "text": [
      "Dataframe information\n",
      "<class 'pandas.core.frame.DataFrame'>\n",
      "RangeIndex: 234 entries, 0 to 233\n",
      "Data columns (total 15 columns):\n",
      " #   Column           Non-Null Count  Dtype  \n",
      "---  ------           --------------  -----  \n",
      " 0   country          234 non-null    object \n",
      " 1   rank             234 non-null    int64  \n",
      " 2   area             234 non-null    float64\n",
      " 3   landAreaKm       234 non-null    float64\n",
      " 4   netChange        226 non-null    float64\n",
      " 5   growthRate       234 non-null    float64\n",
      " 6   worldPercentage  228 non-null    float64\n",
      " 7   density          234 non-null    float64\n",
      " 8   place            234 non-null    int64  \n",
      " 9   pop2000          234 non-null    int64  \n",
      " 10  pop2010          234 non-null    int64  \n",
      " 11  pop2022          234 non-null    int64  \n",
      " 12  pop2023          234 non-null    int64  \n",
      " 13  pop2030          234 non-null    int64  \n",
      " 14  pop2050          234 non-null    int64  \n",
      "dtypes: float64(6), int64(8), object(1)\n",
      "memory usage: 27.6+ KB\n",
      "None\n"
     ]
    }
   ],
   "source": [
    "import pandas as pd\n",
    "data = pd.read_csv('after_drop_countries_table.csv')\n",
    "print(\"Dataframe information\")\n",
    "print(data.info())"
   ]
  },
  {
   "cell_type": "markdown",
   "id": "2d2ef8b4-e4da-4178-b301-0759f9670307",
   "metadata": {},
   "source": [
    "## Finding Answers with the Data Using Visualizations\n",
    "To make it easier to understand, we are going to use matplotlib and seaborn that we\n",
    "earlier imported to visualize our results with simple bar charts. This will make it easier to\n",
    "answer questions that might arise from the data set."
   ]
  },
  {
   "cell_type": "markdown",
   "id": "5b7d3177-f81c-41b6-bbc7-c01e4e42e4a8",
   "metadata": {},
   "source": [
    "**Questions of data analysis**"
   ]
  },
  {
   "cell_type": "markdown",
   "id": "65aef843-59f5-4156-81f2-03dc2912ddfa",
   "metadata": {},
   "source": [
    "Q1. Top 10 Max. Populated Countries Of The World\\\n",
    "Q2. Top 10 Max. Area Oriented Countries Of The World\\\n",
    "Q3. Top 10 Max. Landarea Oriented Countries Of The World\\\n",
    "Q4. Net Changes(%) In Population of Top 10 Countries Of The World\\\n",
    "Q5. Growth Rate Of Population Respect To The World Growth\\\n",
    "Q6. World Population Growth Rate\\\n",
    "Q7. which country has the highest population density\\\n",
    "Q8. Population Database Of 2023's\\\n",
    "Q9. Visually representation the trends of population of the years 2000's, 2010's, 2020's, 2022's, 2023's\\\n",
    "Q10. Visually represent the trends of population of India of those years\\\n",
    "Q11. Predicted Population  Database Of 2030's,2050's"
   ]
  }
 ],
 "metadata": {
  "kernelspec": {
   "display_name": "Python 3 (ipykernel)",
   "language": "python",
   "name": "python3"
  },
  "language_info": {
   "codemirror_mode": {
    "name": "ipython",
    "version": 3
   },
   "file_extension": ".py",
   "mimetype": "text/x-python",
   "name": "python",
   "nbconvert_exporter": "python",
   "pygments_lexer": "ipython3",
   "version": "3.12.0"
  }
 },
 "nbformat": 4,
 "nbformat_minor": 5
}
