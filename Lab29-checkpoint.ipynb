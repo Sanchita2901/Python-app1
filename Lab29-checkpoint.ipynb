{
 "cells": [
  {
   "cell_type": "code",
   "execution_count": 3,
   "id": "e55f613f-47cd-4baa-a2be-13429958e599",
   "metadata": {},
   "outputs": [
    {
     "name": "stdout",
     "output_type": "stream",
     "text": [
      "Sum of each product sale\n",
      "                      Units\n",
      "Region  Item               \n",
      "Central Cell Phone       27\n",
      "        Desk              7\n",
      "        Home Theater    424\n",
      "        Television      498\n",
      "        Video Games     243\n",
      "East    Cell Phone      175\n",
      "        Home Theater    234\n",
      "        Television      130\n",
      "        Video Games     152\n",
      "West    Cell Phone       76\n",
      "        Desk              3\n",
      "        Home Theater     64\n",
      "        Television       88\n",
      "All                    2121\n"
     ]
    },
    {
     "name": "stderr",
     "output_type": "stream",
     "text": [
      "C:\\Users\\abc\\AppData\\Local\\Temp\\ipykernel_5304\\1415573898.py:13: FutureWarning: The provided callable <function sum at 0x000001518FA5C4A0> is currently using DataFrameGroupBy.sum. In a future version of pandas, the provided callable will be used directly. To keep current behavior pass the string \"sum\" instead.\n",
      "  print(pd.pivot_table(df,index=[\"Region\",\"Item\"],values=['Units'],aggfunc=np.sum,margins=True))\n"
     ]
    }
   ],
   "source": [
    "import pandas as pd\n",
    "import matplotlib.pyplot as plt\n",
    "import numpy as np\n",
    "\n",
    "\n",
    "#Q1: Write a Pandas program to create a Pivot table and find the region wise, item wise unit sold.\n",
    "\n",
    "def Lab1():\n",
    "    csv_file_path = 'salesdata.csv'\n",
    "    df=pd.read_csv(csv_file_path)\n",
    "    df.dropna(inplace=True)\n",
    "    print(\"Sum of each product sale\")\n",
    "    print(pd.pivot_table(df,index=[\"Region\",\"Item\"],values=['Units'],aggfunc=np.sum,margins=True))\n",
    "    \n",
    "Lab1()"
   ]
  },
  {
   "cell_type": "code",
   "execution_count": 4,
   "id": "00b8463d-fdd0-4033-bdb4-ff41ccc988e9",
   "metadata": {},
   "outputs": [
    {
     "name": "stdout",
     "output_type": "stream",
     "text": [
      "Sum of each product sale\n",
      "        Sale_amt              \n",
      "           count          mean\n",
      "Manager                       \n",
      "Douglas        8  29882.000000\n",
      "Hermann       12  30425.708333\n",
      "Marth          1  14000.000000\n",
      "Martha        13  35268.692308\n",
      "Timothy        9  25446.444444\n"
     ]
    },
    {
     "name": "stderr",
     "output_type": "stream",
     "text": [
      "C:\\Users\\abc\\AppData\\Local\\Temp\\ipykernel_5304\\702963566.py:13: FutureWarning: The provided callable <function mean at 0x000001518FA5D580> is currently using SeriesGroupBy.mean. In a future version of pandas, the provided callable will be used directly. To keep current behavior pass the string \"mean\" instead.\n",
      "  print(pd.pivot_table(df,index=[\"Manager\"],values=['Sale_amt'],aggfunc={\"Sale_amt\":['count',np.mean]}))\n"
     ]
    }
   ],
   "source": [
    "import pandas as pd\n",
    "import matplotlib.pyplot as plt\n",
    "import numpy as np\n",
    "\n",
    "#Q2.  : Write a Pandas program to create a Pivot table and count the manager wise sale and mean value of sale amount.\n",
    "\n",
    "\n",
    "def Lab2():\n",
    "    csv_file_path = 'salesdata.csv'\n",
    "    df=pd.read_csv(csv_file_path)\n",
    "    df.dropna(inplace=True)\n",
    "    print(\"Sum of each product sale\")\n",
    "    print(pd.pivot_table(df,index=[\"Manager\"],values=['Sale_amt'],aggfunc={\"Sale_amt\":['count',np.mean]}))\n",
    "    \n",
    "Lab2()\n"
   ]
  },
  {
   "cell_type": "code",
   "execution_count": null,
   "id": "935c348c-bd9e-4ca5-8c57-2b404255f00e",
   "metadata": {},
   "outputs": [],
   "source": []
  }
 ],
 "metadata": {
  "kernelspec": {
   "display_name": "Python 3 (ipykernel)",
   "language": "python",
   "name": "python3"
  },
  "language_info": {
   "codemirror_mode": {
    "name": "ipython",
    "version": 3
   },
   "file_extension": ".py",
   "mimetype": "text/x-python",
   "name": "python",
   "nbconvert_exporter": "python",
   "pygments_lexer": "ipython3",
   "version": "3.12.0"
  }
 },
 "nbformat": 4,
 "nbformat_minor": 5
}
